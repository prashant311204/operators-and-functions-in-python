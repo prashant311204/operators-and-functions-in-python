{
 "cells": [
  {
   "cell_type": "code",
   "execution_count": 1,
   "id": "a2a41c0a-b8d4-438a-9a00-c191406ff6bf",
   "metadata": {},
   "outputs": [],
   "source": [
    "def test ():\n",
    "    pass"
   ]
  },
  {
   "cell_type": "code",
   "execution_count": 2,
   "id": "df06b10b-63e0-44b2-9e1f-9a6838431db9",
   "metadata": {},
   "outputs": [
    {
     "data": {
      "text/plain": [
       "function"
      ]
     },
     "execution_count": 2,
     "metadata": {},
     "output_type": "execute_result"
    }
   ],
   "source": [
    "type(test)"
   ]
  },
  {
   "cell_type": "code",
   "execution_count": 3,
   "id": "180cc571-8a44-4a98-9af4-59f8a14de8ed",
   "metadata": {},
   "outputs": [],
   "source": [
    "def puri ():\n",
    "    pass"
   ]
  },
  {
   "cell_type": "code",
   "execution_count": 4,
   "id": "c4d74763-dcc3-409e-9d99-71ece91391fa",
   "metadata": {},
   "outputs": [
    {
     "data": {
      "text/plain": [
       "function"
      ]
     },
     "execution_count": 4,
     "metadata": {},
     "output_type": "execute_result"
    }
   ],
   "source": [
    "type(puri)"
   ]
  },
  {
   "cell_type": "code",
   "execution_count": 5,
   "id": "62fa079e-6d58-48fa-a1fa-56e04b5d3899",
   "metadata": {},
   "outputs": [],
   "source": [
    "def puri ():\n",
    "    print(\"this is my first function class\")"
   ]
  },
  {
   "cell_type": "code",
   "execution_count": 6,
   "id": "586b57bd-8b25-4525-96c0-c1a277801b76",
   "metadata": {},
   "outputs": [
    {
     "name": "stdout",
     "output_type": "stream",
     "text": [
      "this is my first function class\n"
     ]
    }
   ],
   "source": [
    "puri()"
   ]
  },
  {
   "cell_type": "code",
   "execution_count": 7,
   "id": "3f2ffe99-a1ea-4a14-88c4-3cd35cd39a65",
   "metadata": {},
   "outputs": [],
   "source": [
    "def test1(a,b):\n",
    "    print(a,b)\n",
    "# test1(input)\n",
    "#printf(output)"
   ]
  },
  {
   "cell_type": "code",
   "execution_count": 8,
   "id": "4d205e31-e183-45d0-97cc-e96128382876",
   "metadata": {},
   "outputs": [
    {
     "name": "stdout",
     "output_type": "stream",
     "text": [
      "puri 125\n"
     ]
    }
   ],
   "source": [
    "test1(\"puri\",125)"
   ]
  },
  {
   "cell_type": "code",
   "execution_count": 9,
   "id": "bc66febe-8b3f-4263-ae80-071832a51e7e",
   "metadata": {},
   "outputs": [],
   "source": [
    "def use (a=125,b=19):\n",
    "    print(a,b)"
   ]
  },
  {
   "cell_type": "code",
   "execution_count": 10,
   "id": "7e4eb946-176b-4772-b825-3e4cdadcb48c",
   "metadata": {},
   "outputs": [
    {
     "name": "stdout",
     "output_type": "stream",
     "text": [
      "125 19\n"
     ]
    }
   ],
   "source": [
    "use()"
   ]
  },
  {
   "cell_type": "code",
   "execution_count": 11,
   "id": "66c1be12-fad2-49ea-b4e1-f7ac065c1f04",
   "metadata": {},
   "outputs": [],
   "source": [
    "def test2(p,q,r):\n",
    "    print(p,q,r)"
   ]
  },
  {
   "cell_type": "code",
   "execution_count": 12,
   "id": "375a785e-14cd-4f93-b8b6-7ba473796769",
   "metadata": {},
   "outputs": [
    {
     "name": "stdout",
     "output_type": "stream",
     "text": [
      "puri 123 12.34\n"
     ]
    }
   ],
   "source": [
    "x=test2(\"puri\",123,12.34)"
   ]
  },
  {
   "cell_type": "code",
   "execution_count": 13,
   "id": "7395ab99-2c3b-49c9-b471-a8f56c18b336",
   "metadata": {},
   "outputs": [
    {
     "data": {
      "text/plain": [
       "NoneType"
      ]
     },
     "execution_count": 13,
     "metadata": {},
     "output_type": "execute_result"
    }
   ],
   "source": [
    "type(x)"
   ]
  },
  {
   "cell_type": "code",
   "execution_count": 14,
   "id": "0bdbaeb3-636f-4f07-84a2-e4fbfc346e19",
   "metadata": {},
   "outputs": [],
   "source": [
    "def test3(a):\n",
    "    print(a)"
   ]
  },
  {
   "cell_type": "code",
   "execution_count": 15,
   "id": "ec96c82f-1ca1-4683-9927-59e9b3d0ba86",
   "metadata": {},
   "outputs": [
    {
     "name": "stdout",
     "output_type": "stream",
     "text": [
      "ram\n"
     ]
    }
   ],
   "source": [
    "test3(\"ram\")"
   ]
  },
  {
   "cell_type": "code",
   "execution_count": 16,
   "id": "60c20c06-58c5-40c1-a772-02c4aa4d9b1b",
   "metadata": {},
   "outputs": [
    {
     "name": "stdout",
     "output_type": "stream",
     "text": [
      "ram\n"
     ]
    }
   ],
   "source": [
    "Z=type(test3(\"ram\"))"
   ]
  },
  {
   "cell_type": "code",
   "execution_count": 17,
   "id": "dd79c526-7b6e-41ff-8c6d-da0409aa9eb8",
   "metadata": {},
   "outputs": [
    {
     "name": "stdout",
     "output_type": "stream",
     "text": [
      " ram \n"
     ]
    },
    {
     "ename": "TypeError",
     "evalue": "unsupported operand type(s) for +: 'NoneType' and 'str'",
     "output_type": "error",
     "traceback": [
      "\u001b[0;31m---------------------------------------------------------------------------\u001b[0m",
      "\u001b[0;31mTypeError\u001b[0m                                 Traceback (most recent call last)",
      "Cell \u001b[0;32mIn[17], line 1\u001b[0m\n\u001b[0;32m----> 1\u001b[0m \u001b[43mtest3\u001b[49m\u001b[43m(\u001b[49m\u001b[38;5;124;43m\"\u001b[39;49m\u001b[38;5;124;43m ram \u001b[39;49m\u001b[38;5;124;43m\"\u001b[39;49m\u001b[43m)\u001b[49m\u001b[43m \u001b[49m\u001b[38;5;241;43m+\u001b[39;49m\u001b[43m \u001b[49m\u001b[43m(\u001b[49m\u001b[38;5;124;43m\"\u001b[39;49m\u001b[38;5;124;43m radhe \u001b[39;49m\u001b[38;5;124;43m\"\u001b[39;49m\u001b[43m)\u001b[49m\n",
      "\u001b[0;31mTypeError\u001b[0m: unsupported operand type(s) for +: 'NoneType' and 'str'"
     ]
    }
   ],
   "source": [
    "test3(\" ram \") + (\" radhe \")"
   ]
  },
  {
   "cell_type": "raw",
   "id": "893c6d52-cd91-467f-85ba-ff5d6303cfbd",
   "metadata": {},
   "source": [
    "PRINT---->>> nonetype hai isiliye koi operation nii hoga...."
   ]
  },
  {
   "cell_type": "code",
   "execution_count": null,
   "id": "b7fcfc9c-2cc6-4151-80b6-e0109599f11a",
   "metadata": {},
   "outputs": [],
   "source": [
    "def test4(a):\n",
    "    return(a)"
   ]
  },
  {
   "cell_type": "code",
   "execution_count": null,
   "id": "530e2c03-f01a-43fc-87a8-ed34b1887906",
   "metadata": {},
   "outputs": [],
   "source": [
    "type(test4(\"vishal\"))"
   ]
  },
  {
   "cell_type": "code",
   "execution_count": null,
   "id": "4694e2ec-b42e-4f4f-b2ca-69fea4cf0a0c",
   "metadata": {},
   "outputs": [],
   "source": [
    "test4(\" ram \") + (\" radhe \")"
   ]
  },
  {
   "cell_type": "code",
   "execution_count": null,
   "id": "0de898ec-a6dc-4429-8d6c-6f30aad52153",
   "metadata": {},
   "outputs": [],
   "source": [
    "def test5(p,q,r):\n",
    "    return(p,q,r)\n",
    "# OUTPUT--->>>TUPLES......( )"
   ]
  },
  {
   "cell_type": "code",
   "execution_count": null,
   "id": "b216032b-cf13-45b0-bde3-d8d9a256ac8f",
   "metadata": {},
   "outputs": [],
   "source": [
    "z=test5(\"puri\",123,12.34)"
   ]
  },
  {
   "cell_type": "code",
   "execution_count": null,
   "id": "d6c9cef6-0499-4dd6-bd08-e7f45e2de7a9",
   "metadata": {},
   "outputs": [],
   "source": [
    "z"
   ]
  },
  {
   "cell_type": "code",
   "execution_count": null,
   "id": "9dcd3ed0-7af3-4a61-9d33-8dec4f5ba9de",
   "metadata": {},
   "outputs": [],
   "source": [
    "type(z)"
   ]
  },
  {
   "cell_type": "code",
   "execution_count": null,
   "id": "05c1c05e-eef7-4b86-921b-943acee86f3f",
   "metadata": {},
   "outputs": [],
   "source": [
    "x,y,z=test5(\"puri\",123,12.34)"
   ]
  },
  {
   "cell_type": "code",
   "execution_count": null,
   "id": "af2364a5-e99a-486c-8bcf-a6789b866631",
   "metadata": {},
   "outputs": [],
   "source": [
    "x\n"
   ]
  },
  {
   "cell_type": "code",
   "execution_count": null,
   "id": "8f8d338d-7795-4dfe-888e-60413b129f1e",
   "metadata": {},
   "outputs": [],
   "source": [
    "y"
   ]
  },
  {
   "cell_type": "code",
   "execution_count": null,
   "id": "160c3d08-375e-4fea-817c-0c034efce1f0",
   "metadata": {},
   "outputs": [],
   "source": [
    "z"
   ]
  },
  {
   "cell_type": "code",
   "execution_count": null,
   "id": "0b013833-9fb5-4022-8fbf-19df80a2d2ab",
   "metadata": {},
   "outputs": [],
   "source": [
    "def test6(l):\n",
    "    \n",
    "    for i in l:\n",
    "        print(i)"
   ]
  },
  {
   "cell_type": "code",
   "execution_count": null,
   "id": "890274ce-9b67-4df3-9ae5-d4317c1dfc6b",
   "metadata": {},
   "outputs": [],
   "source": [
    "test6([1,2,3,4,5,6])"
   ]
  },
  {
   "cell_type": "code",
   "execution_count": 27,
   "id": "4b7e1c13-281e-4de3-ac89-237566bdc034",
   "metadata": {},
   "outputs": [],
   "source": [
    "def test9(*args):\n",
    "    return args"
   ]
  },
  {
   "cell_type": "code",
   "execution_count": 28,
   "id": "f9ff0ada-f42e-4fd9-a7c7-7780db8ef4ef",
   "metadata": {},
   "outputs": [
    {
     "data": {
      "text/plain": [
       "(123,)"
      ]
     },
     "execution_count": 28,
     "metadata": {},
     "output_type": "execute_result"
    }
   ],
   "source": [
    "test9(123)"
   ]
  },
  {
   "cell_type": "code",
   "execution_count": 18,
   "id": "16140248-e08e-438c-acf7-786c28175357",
   "metadata": {},
   "outputs": [],
   "source": [
    "def test6(*puri):\n",
    "    return puri"
   ]
  },
  {
   "cell_type": "markdown",
   "id": "06a7b3b4-b697-44bd-a71f-a427cedbbc07",
   "metadata": {},
   "source": [
    "def test6(* variable name):\n",
    "    return variable name\n",
    "# kitna v input le skte hai    "
   ]
  },
  {
   "cell_type": "code",
   "execution_count": 19,
   "id": "d3271437-bf5d-401c-96a1-12c3b9ea04bc",
   "metadata": {},
   "outputs": [
    {
     "data": {
      "text/plain": [
       "(1, 8, 3, 4)"
      ]
     },
     "execution_count": 19,
     "metadata": {},
     "output_type": "execute_result"
    }
   ],
   "source": [
    "test6(1,8,3,4,)"
   ]
  },
  {
   "cell_type": "code",
   "execution_count": 20,
   "id": "9ee42354-71b6-433a-afad-103505613119",
   "metadata": {},
   "outputs": [
    {
     "data": {
      "text/plain": [
       "('puri',)"
      ]
     },
     "execution_count": 20,
     "metadata": {},
     "output_type": "execute_result"
    }
   ],
   "source": [
    "test6(\"puri\")"
   ]
  },
  {
   "cell_type": "code",
   "execution_count": 25,
   "id": "4fb0832a-29f2-4a78-bd8d-16c5e5971993",
   "metadata": {},
   "outputs": [],
   "source": [
    "def test7(*puri,name=\"prashant\"):\n",
    "    return puri,name"
   ]
  },
  {
   "cell_type": "code",
   "execution_count": 26,
   "id": "c1e49614-f424-4e5c-b046-325494ce8329",
   "metadata": {},
   "outputs": [
    {
     "data": {
      "text/plain": [
       "((12.78, 53, 68), 'prashant')"
      ]
     },
     "execution_count": 26,
     "metadata": {},
     "output_type": "execute_result"
    }
   ],
   "source": [
    "test7(12.78,53,68)"
   ]
  },
  {
   "cell_type": "code",
   "execution_count": 29,
   "id": "1d36976f-34bc-4aec-9972-f40303e9f2e0",
   "metadata": {},
   "outputs": [],
   "source": [
    "def test8(**kwargs):\n",
    "    return kwargs\n",
    "#key pair arguments"
   ]
  },
  {
   "cell_type": "code",
   "execution_count": 30,
   "id": "98c12feb-dc84-4ca6-b5a6-cd818a1690b1",
   "metadata": {},
   "outputs": [
    {
     "data": {
      "text/plain": [
       "{'name': 'prashant', 'phone_no': 9153155661}"
      ]
     },
     "execution_count": 30,
     "metadata": {},
     "output_type": "execute_result"
    }
   ],
   "source": [
    "test8(name=\"prashant\",phone_no=9153155661)"
   ]
  },
  {
   "cell_type": "code",
   "execution_count": 32,
   "id": "652ffe7a-f282-4964-92e9-a730b0d74d0f",
   "metadata": {},
   "outputs": [],
   "source": [
    "def test9(**variable_name):\n",
    "    return variable_name"
   ]
  },
  {
   "cell_type": "code",
   "execution_count": 34,
   "id": "b30fa2e6-cd03-4a59-8dfa-db7ddcb02f04",
   "metadata": {},
   "outputs": [
    {
     "data": {
      "text/plain": [
       "{'name': 'puri', 'vill': 'baraicha'}"
      ]
     },
     "execution_count": 34,
     "metadata": {},
     "output_type": "execute_result"
    }
   ],
   "source": [
    "test9(name=\"puri\",vill=\"baraicha\")"
   ]
  },
  {
   "cell_type": "code",
   "execution_count": 35,
   "id": "64f53185-e02d-4022-95eb-6078a24308ca",
   "metadata": {},
   "outputs": [],
   "source": [
    "p=lambda a,b:a+b"
   ]
  },
  {
   "cell_type": "code",
   "execution_count": 36,
   "id": "a6add2ca-13ec-49f7-9867-738f61d3d887",
   "metadata": {},
   "outputs": [
    {
     "data": {
      "text/plain": [
       "44"
      ]
     },
     "execution_count": 36,
     "metadata": {},
     "output_type": "execute_result"
    }
   ],
   "source": [
    "p(19,25)"
   ]
  },
  {
   "cell_type": "code",
   "execution_count": 37,
   "id": "7c16d392-9188-4867-ac38-08c46feda72a",
   "metadata": {},
   "outputs": [],
   "source": [
    "q=lambda a,b:a*b\n",
    "# bina name diye function create hoga"
   ]
  },
  {
   "cell_type": "markdown",
   "id": "ae718ac1-8664-48e9-a47b-035b7631c784",
   "metadata": {},
   "source": [
    "Bina name diye function create hoga----->LAMBDA"
   ]
  },
  {
   "cell_type": "code",
   "execution_count": 38,
   "id": "cd670776-c453-412f-a674-7d026693a1b5",
   "metadata": {},
   "outputs": [
    {
     "data": {
      "text/plain": [
       "30"
      ]
     },
     "execution_count": 38,
     "metadata": {},
     "output_type": "execute_result"
    }
   ],
   "source": [
    "q(5,6)"
   ]
  },
  {
   "cell_type": "code",
   "execution_count": 39,
   "id": "715e4b53-aeda-4003-927b-190f398240a0",
   "metadata": {},
   "outputs": [],
   "source": [
    "R=lambda a,b:a**b\n",
    "# ** POWER"
   ]
  },
  {
   "cell_type": "code",
   "execution_count": 40,
   "id": "86467127-133e-441d-91f2-326e85af4e33",
   "metadata": {},
   "outputs": [
    {
     "data": {
      "text/plain": [
       "8"
      ]
     },
     "execution_count": 40,
     "metadata": {},
     "output_type": "execute_result"
    }
   ],
   "source": [
    "R(2,3)"
   ]
  },
  {
   "cell_type": "code",
   "execution_count": 41,
   "id": "1033f310-6ab8-4f99-b7a4-c52858c9ca19",
   "metadata": {},
   "outputs": [],
   "source": [
    "r=lambda a:a**2"
   ]
  },
  {
   "cell_type": "code",
   "execution_count": 42,
   "id": "703d7727-be0c-4a33-97a5-f80b3497fa68",
   "metadata": {},
   "outputs": [
    {
     "data": {
      "text/plain": [
       "100"
      ]
     },
     "execution_count": 42,
     "metadata": {},
     "output_type": "execute_result"
    }
   ],
   "source": [
    "r(10)"
   ]
  },
  {
   "cell_type": "code",
   "execution_count": 43,
   "id": "210f23e4-a721-40ef-ba15-0f8b172324a4",
   "metadata": {},
   "outputs": [],
   "source": [
    "P=lambda **kwargs:kwargs"
   ]
  },
  {
   "cell_type": "code",
   "execution_count": 45,
   "id": "d53dc413-0c2d-402c-b940-72d5560f4115",
   "metadata": {},
   "outputs": [
    {
     "data": {
      "text/plain": [
       "{'a': 12, 'b': 18, 'c': 25}"
      ]
     },
     "execution_count": 45,
     "metadata": {},
     "output_type": "execute_result"
    }
   ],
   "source": [
    "P(a=12,b=18,c=25)"
   ]
  },
  {
   "cell_type": "code",
   "execution_count": 59,
   "id": "0736a7db-aadb-4459-882b-75b109de4bd6",
   "metadata": {},
   "outputs": [],
   "source": [
    "def user(l):\n",
    "    l1=[]\n",
    "    for i in l:\n",
    "        l1.append(i+2)\n",
    "        return l1"
   ]
  },
  {
   "cell_type": "code",
   "execution_count": 60,
   "id": "866313b5-aeef-49c2-bc7b-631dd04f01f8",
   "metadata": {},
   "outputs": [
    {
     "data": {
      "text/plain": [
       "[3]"
      ]
     },
     "execution_count": 60,
     "metadata": {},
     "output_type": "execute_result"
    }
   ],
   "source": [
    "user([1,2,3,4,5,6,7,8,9])"
   ]
  },
  {
   "cell_type": "code",
   "execution_count": 61,
   "id": "cbdd6579-30c6-4806-bab0-47fd18dad8c0",
   "metadata": {},
   "outputs": [],
   "source": [
    "def y(l):\n",
    "    l1=[]\n",
    "    for i in l:\n",
    "        l1.append(i+2)\n",
    "        return l1"
   ]
  },
  {
   "cell_type": "code",
   "execution_count": 62,
   "id": "665a0f4f-793a-409e-b429-a48ce56d5950",
   "metadata": {},
   "outputs": [
    {
     "data": {
      "text/plain": [
       "[14]"
      ]
     },
     "execution_count": 62,
     "metadata": {},
     "output_type": "execute_result"
    }
   ],
   "source": [
    "y([12,2,34,2])"
   ]
  },
  {
   "cell_type": "code",
   "execution_count": null,
   "id": "7f2efbcf-7311-4275-90a4-fd49552b469c",
   "metadata": {},
   "outputs": [],
   "source": []
  }
 ],
 "metadata": {
  "kernelspec": {
   "display_name": "Python 3 (ipykernel)",
   "language": "python",
   "name": "python3"
  },
  "language_info": {
   "codemirror_mode": {
    "name": "ipython",
    "version": 3
   },
   "file_extension": ".py",
   "mimetype": "text/x-python",
   "name": "python",
   "nbconvert_exporter": "python",
   "pygments_lexer": "ipython3",
   "version": "3.10.8"
  }
 },
 "nbformat": 4,
 "nbformat_minor": 5
}
