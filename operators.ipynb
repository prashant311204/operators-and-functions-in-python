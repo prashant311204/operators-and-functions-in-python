{
 "cells": [
  {
   "cell_type": "code",
   "execution_count": 1,
   "id": "d8fba783-f2be-415d-989b-51db4b9f1a4f",
   "metadata": {},
   "outputs": [
    {
     "data": {
      "text/plain": [
       "3"
      ]
     },
     "execution_count": 1,
     "metadata": {},
     "output_type": "execute_result"
    }
   ],
   "source": [
    "1+2"
   ]
  },
  {
   "cell_type": "code",
   "execution_count": 3,
   "id": "33396f91-0164-40ab-ac1c-95054e9828b0",
   "metadata": {},
   "outputs": [
    {
     "data": {
      "text/plain": [
       "12"
      ]
     },
     "execution_count": 3,
     "metadata": {},
     "output_type": "execute_result"
    }
   ],
   "source": [
    "6*2"
   ]
  },
  {
   "cell_type": "code",
   "execution_count": 5,
   "id": "58e2fa15-4b47-434b-a293-cae805187d58",
   "metadata": {},
   "outputs": [
    {
     "data": {
      "text/plain": [
       "2"
      ]
     },
     "execution_count": 5,
     "metadata": {},
     "output_type": "execute_result"
    }
   ],
   "source": [
    "8%6  \n",
    "#modulus ----->>>remainder"
   ]
  },
  {
   "cell_type": "code",
   "execution_count": 6,
   "id": "8056d5a7-7e8b-49fe-bb0e-7cd94bcb6a9f",
   "metadata": {},
   "outputs": [
    {
     "data": {
      "text/plain": [
       "8"
      ]
     },
     "execution_count": 6,
     "metadata": {},
     "output_type": "execute_result"
    }
   ],
   "source": [
    "2**3\n",
    "# power"
   ]
  },
  {
   "cell_type": "code",
   "execution_count": 8,
   "id": "5578a7f0-e278-414a-914f-e3cb0200c3d1",
   "metadata": {},
   "outputs": [
    {
     "data": {
      "text/plain": [
       "1"
      ]
     },
     "execution_count": 8,
     "metadata": {},
     "output_type": "execute_result"
    }
   ],
   "source": [
    "5//4\n",
    "#double flour"
   ]
  },
  {
   "cell_type": "code",
   "execution_count": 9,
   "id": "dd271668-4300-4f66-88a5-880278abe2cc",
   "metadata": {},
   "outputs": [
    {
     "data": {
      "text/plain": [
       "False"
      ]
     },
     "execution_count": 9,
     "metadata": {},
     "output_type": "execute_result"
    }
   ],
   "source": [
    "1>2"
   ]
  },
  {
   "cell_type": "code",
   "execution_count": 10,
   "id": "9f14c559-503c-41a2-a1ad-03160c1c757d",
   "metadata": {},
   "outputs": [
    {
     "data": {
      "text/plain": [
       "False"
      ]
     },
     "execution_count": 10,
     "metadata": {},
     "output_type": "execute_result"
    }
   ],
   "source": [
    "2==6"
   ]
  },
  {
   "cell_type": "code",
   "execution_count": 12,
   "id": "dad70eef-c3a5-49d0-9d25-cf6cd2df4fee",
   "metadata": {},
   "outputs": [
    {
     "data": {
      "text/plain": [
       "0"
      ]
     },
     "execution_count": 12,
     "metadata": {},
     "output_type": "execute_result"
    }
   ],
   "source": [
    "2 and 0"
   ]
  },
  {
   "cell_type": "code",
   "execution_count": 13,
   "id": "e2db655d-13df-4df2-b252-10d1256c6f54",
   "metadata": {},
   "outputs": [
    {
     "data": {
      "text/plain": [
       "8"
      ]
     },
     "execution_count": 13,
     "metadata": {},
     "output_type": "execute_result"
    }
   ],
   "source": [
    "8 or 0"
   ]
  },
  {
   "cell_type": "code",
   "execution_count": 14,
   "id": "3b5bbdf3-0349-404a-9926-7c9af21010e8",
   "metadata": {},
   "outputs": [
    {
     "data": {
      "text/plain": [
       "'0b1010'"
      ]
     },
     "execution_count": 14,
     "metadata": {},
     "output_type": "execute_result"
    }
   ],
   "source": [
    "bin(10)"
   ]
  },
  {
   "cell_type": "code",
   "execution_count": 17,
   "id": "e907d2bd-223a-4658-83c7-5e6d5a7da06e",
   "metadata": {},
   "outputs": [
    {
     "data": {
      "text/plain": [
       "'0b100'"
      ]
     },
     "execution_count": 17,
     "metadata": {},
     "output_type": "execute_result"
    }
   ],
   "source": [
    "bin(4)"
   ]
  },
  {
   "cell_type": "code",
   "execution_count": 18,
   "id": "b0766ff2-727c-4ccb-aa14-4da5a423c16d",
   "metadata": {},
   "outputs": [
    {
     "data": {
      "text/plain": [
       "0"
      ]
     },
     "execution_count": 18,
     "metadata": {},
     "output_type": "execute_result"
    }
   ],
   "source": [
    "10 & 4"
   ]
  },
  {
   "cell_type": "code",
   "execution_count": 19,
   "id": "1c4c21b5-003b-4708-940b-62eb00ea5ce4",
   "metadata": {},
   "outputs": [
    {
     "data": {
      "text/plain": [
       "'0b1010'"
      ]
     },
     "execution_count": 19,
     "metadata": {},
     "output_type": "execute_result"
    }
   ],
   "source": [
    "bin(10)"
   ]
  },
  {
   "cell_type": "code",
   "execution_count": 20,
   "id": "e256ca8b-546d-47b2-921f-05ca6eba95e9",
   "metadata": {},
   "outputs": [
    {
     "data": {
      "text/plain": [
       "'0b10'"
      ]
     },
     "execution_count": 20,
     "metadata": {},
     "output_type": "execute_result"
    }
   ],
   "source": [
    "bin(2)"
   ]
  },
  {
   "cell_type": "code",
   "execution_count": 21,
   "id": "b9472dd8-9000-4de3-af7b-10b220dd1bae",
   "metadata": {},
   "outputs": [
    {
     "data": {
      "text/plain": [
       "2"
      ]
     },
     "execution_count": 21,
     "metadata": {},
     "output_type": "execute_result"
    }
   ],
   "source": [
    "10 & 2"
   ]
  },
  {
   "cell_type": "code",
   "execution_count": 22,
   "id": "6932b499-4d55-416c-9fd9-c57af594b231",
   "metadata": {},
   "outputs": [
    {
     "data": {
      "text/plain": [
       "-13"
      ]
     },
     "execution_count": 22,
     "metadata": {},
     "output_type": "execute_result"
    }
   ],
   "source": [
    " ~12"
   ]
  },
  {
   "cell_type": "code",
   "execution_count": 27,
   "id": "5898d487-ba46-4c1c-bb70-522bef2113f4",
   "metadata": {},
   "outputs": [
    {
     "data": {
      "text/plain": [
       "'0b1100'"
      ]
     },
     "execution_count": 27,
     "metadata": {},
     "output_type": "execute_result"
    }
   ],
   "source": [
    "bin(12)"
   ]
  },
  {
   "cell_type": "code",
   "execution_count": 28,
   "id": "93b75a09-2491-40fb-a0f3-ce290698445d",
   "metadata": {},
   "outputs": [
    {
     "data": {
      "text/plain": [
       "'0b1101'"
      ]
     },
     "execution_count": 28,
     "metadata": {},
     "output_type": "execute_result"
    }
   ],
   "source": [
    "bin(13)"
   ]
  },
  {
   "cell_type": "markdown",
   "id": "e6f54f11-c211-4745-a9ec-05bc1b634d45",
   "metadata": {},
   "source": [
    "-(1100+1)  =-(1101)\n",
    "   12          13"
   ]
  },
  {
   "cell_type": "code",
   "execution_count": 29,
   "id": "536185ff-b2f9-447a-a9f4-a93279b0143d",
   "metadata": {},
   "outputs": [],
   "source": [
    "a=8"
   ]
  },
  {
   "cell_type": "code",
   "execution_count": 30,
   "id": "1f1caaf6-73be-49d5-a31c-389f42c48d85",
   "metadata": {},
   "outputs": [
    {
     "data": {
      "text/plain": [
       "2"
      ]
     },
     "execution_count": 30,
     "metadata": {},
     "output_type": "execute_result"
    }
   ],
   "source": [
    "a>>2\n",
    "# left shift ---->>>pichhe 2 zero lagega"
   ]
  },
  {
   "cell_type": "code",
   "execution_count": 31,
   "id": "0aa6df3d-18b4-4738-a54a-82f7086e3e11",
   "metadata": {},
   "outputs": [
    {
     "data": {
      "text/plain": [
       "'0b1000'"
      ]
     },
     "execution_count": 31,
     "metadata": {},
     "output_type": "execute_result"
    }
   ],
   "source": [
    "bin(a)"
   ]
  },
  {
   "cell_type": "markdown",
   "id": "4e365963-9a47-44ef-8f8c-50e75192794d",
   "metadata": {},
   "source": [
    " 8----->>>> 1000\n",
    " aage se 2 zero hata kr pichhe lga denge\n",
    "                                         0010"
   ]
  },
  {
   "cell_type": "code",
   "execution_count": 32,
   "id": "49679e33-445a-4bab-9893-cffc48d6ce0e",
   "metadata": {},
   "outputs": [
    {
     "data": {
      "text/plain": [
       "'0b10'"
      ]
     },
     "execution_count": 32,
     "metadata": {},
     "output_type": "execute_result"
    }
   ],
   "source": [
    "bin(2)"
   ]
  },
  {
   "cell_type": "code",
   "execution_count": 33,
   "id": "9f9f4255-1738-4b02-a618-7db0834ff318",
   "metadata": {},
   "outputs": [
    {
     "data": {
      "text/plain": [
       "32"
      ]
     },
     "execution_count": 33,
     "metadata": {},
     "output_type": "execute_result"
    }
   ],
   "source": [
    "a<<2\n",
    "#right shift _______>>>>>>>>aage 2 zero lagega\n"
   ]
  },
  {
   "cell_type": "code",
   "execution_count": 34,
   "id": "0a703690-8a83-466f-818f-2d2097e01e43",
   "metadata": {},
   "outputs": [
    {
     "data": {
      "text/plain": [
       "'0b100000'"
      ]
     },
     "execution_count": 34,
     "metadata": {},
     "output_type": "execute_result"
    }
   ],
   "source": [
    "bin(32)"
   ]
  },
  {
   "cell_type": "markdown",
   "id": "aa515ad6-1e85-4ed7-8a6b-268ccd960811",
   "metadata": {},
   "source": [
    "8----->>>> 1000 aage  2 zero  lga de "
   ]
  }
 ],
 "metadata": {
  "kernelspec": {
   "display_name": "Python 3 (ipykernel)",
   "language": "python",
   "name": "python3"
  },
  "language_info": {
   "codemirror_mode": {
    "name": "ipython",
    "version": 3
   },
   "file_extension": ".py",
   "mimetype": "text/x-python",
   "name": "python",
   "nbconvert_exporter": "python",
   "pygments_lexer": "ipython3",
   "version": "3.10.8"
  }
 },
 "nbformat": 4,
 "nbformat_minor": 5
}
